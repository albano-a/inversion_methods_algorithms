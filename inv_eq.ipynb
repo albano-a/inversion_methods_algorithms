{
 "cells": [
  {
   "cell_type": "code",
   "execution_count": null,
   "metadata": {},
   "outputs": [],
   "source": [
    "import numpy as np\n",
    "import matplotlib.pyplot as plt\n",
    "import scipy.linalg\n",
    "from numpy.linalg import inv\n",
    "\n",
    "def inv_normaL1(dobs, G, miL1):\n",
    "    \n",
    "    \"\"\"\n",
    "    Calcula os parâmetros usando a solução com norma L1 tanto no resíduo quanto no modelo de parâmetros (método IRLS).\n",
    "\n",
    "    Args:\n",
    "        d (tipo): Dados observados.\n",
    "        G (tipo): Matriz de modelagem direta.\n",
    "\n",
    "    Returns:\n",
    "        m (tipo): Parâmetros.\n",
    "    \"\"\"\n",
    "    a , b = np.shape(G)\n",
    "    R = np.eye(a)\n",
    "    Rm = np.eye(b)\n",
    "    \n",
    "    for _ in range(10):\n",
    "        m = inv(G.T @ R @ G + miL1 * Rm) @ G.T @ R @ dobs\n",
    "        r = G @ m - dobs\n",
    "        np.fill_diagonal(R, 1 / np.absolute(r + 0.0001), wrap=True)\n",
    "        np.fill_diagonal(Rm, 1 / np.absolute(m + 0.0001), wrap=True)\n",
    "\n",
    "    return m\n",
    "    \n",
    "def inv_normaL2(dobs, G, L, miL2):\n",
    "    \n",
    "    \"\"\"\n",
    "    Funcao para calcular os parâmetros usando a solucao com norma L2\n",
    "    Dados de entrada:\n",
    "        d = dados observados\n",
    "        G = matriz de modelagem direta\n",
    "        \n",
    "    Output:\n",
    "        m = parametros\n",
    "    \"\"\"\n",
    "    m = inv(G.T @ G + miL2* L.T @ L) @ G.T @ dobs\n",
    "        \n",
    "    return m    "
   ]
  },
  {
   "cell_type": "markdown",
   "metadata": {},
   "source": [
    "dado observado - amplitude\n",
    "G é a matriz de modelagem direta, que no código é o S gerado por toeplitz\n",
    "\n",
    "\n",
    "refletividade = 0.5 * matder @ log(impedancia)"
   ]
  },
  {
   "cell_type": "code",
   "execution_count": null,
   "metadata": {},
   "outputs": [],
   "source": [
    "# Matriz de determinantes\n",
    "nd = len(Ip) # length da impedancia\n",
    "ns = len(wavelet) # length da wavelet\n",
    "matder = np.zeros(shape=(nd,nd))\n",
    "\n",
    "for i in range(nd):\n",
    "  matder[i][i] = -1\n",
    "  if i<nd-1:\n",
    "    matder[i][i+1] = 1\n",
    "  else:\n",
    "    matder[i][i] = 0\n",
    "#                \n",
    "print(matder)\n",
    "print(np.shape(matder))"
   ]
  }
 ],
 "metadata": {
  "language_info": {
   "name": "python"
  }
 },
 "nbformat": 4,
 "nbformat_minor": 2
}
